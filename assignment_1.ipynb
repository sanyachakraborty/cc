{
 "cells": [
  {
   "cell_type": "code",
   "execution_count": null,
   "id": "af787000-0ae1-4af3-a27c-d622b1832325",
   "metadata": {
    "trusted": true
   },
   "outputs": [],
   "source": [
    "1.1 WAP to print your name three times\n",
    "print(\"sanya\")\n",
    "print(\"sanya\")\n",
    "print(\"sanya\")\n",
    "\n",
    "2.1: WAP to add three numbers and print the result.\n",
    "a=100\n",
    "b=3\n",
    "c=6\n",
    "d=a+b+c\n",
    "print(a,\"+\",b,\"+\",c,\"-->\",d)\n",
    "\n",
    "2.2: WAP to concatinate three strings and print the result.\n",
    "a=\"tashu\"\n",
    "b=\"hurreet\"\n",
    "c=\"akansha\"\n",
    "d=a+b+c\n",
    "print(a,\"&\",b,\"&\",c,\"-->\",d)\n",
    "\n",
    "4.1: WAP to print the table of 7, 9.\n",
    "#table of 7\n",
    "for i in range(0,11):\n",
    "    print(\"7\",\"*\",i,\"-->\",i*7)\n",
    "    \n",
    "    #table of 9\n",
    "    for i in range(0,11):\n",
    "        print(\"9\",\"*\",i,\"-->\",i*9)\n",
    "\n",
    "4.2: WAP to print the table of n and n is given by user.\n",
    "n=int(input(\"enter a number:\"))\n",
    "for i in range(0,11):\n",
    "    print(\"n\",\"*\",i,\"-->\",i*n)\n",
    "\n",
    "4.3: WAP to add all the numbers from 1 to n and n is given by user.\n",
    "n = int(input(\"Enter the number till which sum is needed: \"))\n",
    "sum = 0\n",
    "for i in range(0, n + 1):\n",
    "    sum = sum + i\n",
    "print(\"The sum is:\", sum)\n",
    "5\n",
    "\n",
    "5.1: WAP to find max amoung three numbers and input from user. [Try max() function]\n",
    "a=int(input(\"enter the first number\"))\n",
    "b=int(input(\"enter the second number\"))\n",
    "c=int(input(\"enter the third number\"))\n",
    "if a>b and a>c:\n",
    "    print(\"a is greater\")\n",
    "elif b>c and b>a:\n",
    "    print(\"b is greter\")\n",
    "elif c>b and c>a:\n",
    "    print(\"c is greater\")\n",
    "else:\n",
    "    print(\"they are equal\")  \n",
    "\n",
    "5.2: WAP to add all numbers divisible by 7 and 9 from 1 to n and n is given by the user.\n",
    "    \n",
    "    "
   ]
  }
 ],
 "metadata": {
  "kernelspec": {
   "display_name": "Python (Pyodide)",
   "language": "python",
   "name": "python"
  },
  "language_info": {
   "codemirror_mode": {
    "name": "python",
    "version": 3
   },
   "file_extension": ".py",
   "mimetype": "text/x-python",
   "name": "python",
   "nbconvert_exporter": "python",
   "pygments_lexer": "ipython3",
   "version": "3.8"
  }
 },
 "nbformat": 4,
 "nbformat_minor": 5
}
