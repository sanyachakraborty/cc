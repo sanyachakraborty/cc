{
 "cells": [
  {
   "cell_type": "code",
   "execution_count": 1,
   "id": "0964a3ff-7b7d-4f0f-88e1-d89f83e6f313",
   "metadata": {
    "trusted": true
   },
   "outputs": [
    {
     "name": "stdout",
     "output_type": "stream",
     "text": [
      "sanya\n",
      "sanya\n",
      "sanya\n",
      "100 + 3 + 6 --> 109\n",
      "tarsh & tarsh & tarsh --> tarshtarshtarsh\n",
      "7 * 0 --> 0\n",
      "7 * 1 --> 7\n",
      "7 * 2 --> 14\n",
      "7 * 3 --> 21\n",
      "7 * 4 --> 28\n",
      "7 * 5 --> 35\n",
      "7 * 6 --> 42\n",
      "7 * 7 --> 49\n",
      "7 * 8 --> 56\n",
      "7 * 9 --> 63\n",
      "7 * 10 --> 70\n",
      "9 * 0 --> 0\n",
      "9 * 1 --> 9\n",
      "9 * 2 --> 18\n",
      "9 * 3 --> 27\n",
      "9 * 4 --> 36\n",
      "9 * 5 --> 45\n",
      "9 * 6 --> 54\n",
      "9 * 7 --> 63\n",
      "9 * 8 --> 72\n",
      "9 * 9 --> 81\n",
      "9 * 10 --> 90\n"
     ]
    },
    {
     "ename": "<class 'TypeError'>",
     "evalue": "int() argument must be a string, a bytes-like object or a real number, not 'PyodideFuture'",
     "output_type": "error",
     "traceback": [
      "\u001b[0;31m---------------------------------------------------------------------------\u001b[0m",
      "\u001b[0;31mTypeError\u001b[0m                                 Traceback (most recent call last)",
      "Cell \u001b[0;32mIn[1], line 30\u001b[0m\n\u001b[1;32m     27\u001b[0m     \u001b[38;5;28mprint\u001b[39m(\u001b[38;5;124m\"\u001b[39m\u001b[38;5;124m9\u001b[39m\u001b[38;5;124m\"\u001b[39m, \u001b[38;5;124m\"\u001b[39m\u001b[38;5;124m*\u001b[39m\u001b[38;5;124m\"\u001b[39m, i, \u001b[38;5;124m\"\u001b[39m\u001b[38;5;124m-->\u001b[39m\u001b[38;5;124m\"\u001b[39m, i \u001b[38;5;241m*\u001b[39m \u001b[38;5;241m9\u001b[39m)\n\u001b[1;32m     29\u001b[0m \u001b[38;5;66;03m# 4.2: WAP to print the table of n where n is given by the user.\u001b[39;00m\n\u001b[0;32m---> 30\u001b[0m n \u001b[38;5;241m=\u001b[39m \u001b[38;5;28;43mint\u001b[39;49m\u001b[43m(\u001b[49m\u001b[38;5;28;43minput\u001b[39;49m\u001b[43m(\u001b[49m\u001b[38;5;124;43m\"\u001b[39;49m\u001b[38;5;124;43mEnter a number: \u001b[39;49m\u001b[38;5;124;43m\"\u001b[39;49m\u001b[43m)\u001b[49m\u001b[43m)\u001b[49m\n\u001b[1;32m     31\u001b[0m \u001b[38;5;28;01mfor\u001b[39;00m i \u001b[38;5;129;01min\u001b[39;00m \u001b[38;5;28mrange\u001b[39m(\u001b[38;5;241m0\u001b[39m, \u001b[38;5;241m11\u001b[39m):\n\u001b[1;32m     32\u001b[0m     \u001b[38;5;28mprint\u001b[39m(n, \u001b[38;5;124m\"\u001b[39m\u001b[38;5;124m*\u001b[39m\u001b[38;5;124m\"\u001b[39m, i, \u001b[38;5;124m\"\u001b[39m\u001b[38;5;124m-->\u001b[39m\u001b[38;5;124m\"\u001b[39m, i \u001b[38;5;241m*\u001b[39m n)\n",
      "\u001b[0;31mTypeError\u001b[0m: int() argument must be a string, a bytes-like object or a real number, not 'PyodideFuture'"
     ]
    }
   ],
   "source": [
    "# 1.1: WAP to print your name three times\n",
    "print(\"sanya\")\n",
    "print(\"sanya\")\n",
    "print(\"sanya\")\n",
    "\n",
    "# 2.1: WAP to add three numbers and print the result.\n",
    "a = 100\n",
    "b = 3\n",
    "c = 6\n",
    "d = a + b + c\n",
    "print(a, \"+\", b, \"+\", c, \"-->\", d)\n",
    "\n",
    "# 2.2: WAP to concatenate three strings and print the result.\n",
    "a = \"tarsh\"\n",
    "b = \"tarsh\"\n",
    "c = \"tarsh\"\n",
    "d = a + b + c\n",
    "print(a, \"&\", b, \"&\", c, \"-->\", d)\n",
    "\n",
    "# 4.1: WAP to print the table of 7 and 9.\n",
    "# Table of 7\n",
    "for i in range(0, 11):\n",
    "    print(\"7\", \"*\", i, \"-->\", i * 7)\n",
    "\n",
    "# Table of 9\n",
    "for i in range(0, 11):\n",
    "    print(\"9\", \"*\", i, \"-->\", i * 9)\n",
    "\n",
    "# 4.2: WAP to print the table of n where n is given by the user.\n",
    "n = int(input(\"Enter a number: \"))\n",
    "for i in range(0, 11):\n",
    "    print(n, \"*\", i, \"-->\", i * n)\n",
    "\n",
    "# 4.3: WAP to add all the numbers from 1 to n where n is given by the user.\n",
    "n = int(input(\"Enter the number till which sum is needed: \"))\n",
    "sum_value = 0\n",
    "for i in range(0, n + 1):\n",
    "    sum_value += i\n",
    "print(\"The sum is:\", sum_value)\n",
    "\n",
    "# 5.1: WAP to find the maximum among three numbers with input from the user. [Try max() function]\n",
    "a = int(input(\"Enter the first number: \"))\n",
    "b = int(input(\"Enter the second number: \"))\n",
    "c = int(input(\"Enter the third number: \"))\n",
    "print(\"The maximum number is:\", max(a, b, c))\n",
    "\n",
    "# 5.2: WAP to add all numbers divisible by 7 and 9 from 1 to n where n is given by the user.\n",
    "n = int(input(\"Enter the number: \"))\n",
    "sum_value = 0\n",
    "for i in range(1, n + 1):\n",
    "    if i % 7 == 0 and i % 9 == 0:\n",
    "        sum_value += i\n",
    "print(\"The sum of numbers divisible by 7 and 9 is:\", sum_value)\n"
   ]
  },
  {
   "cell_type": "code",
   "execution_count": null,
   "id": "9654f824-5546-4008-8839-36359fc96e2d",
   "metadata": {
    "trusted": true
   },
   "outputs": [],
   "source": []
  }
 ],
 "metadata": {
  "kernelspec": {
   "display_name": "Python (Pyodide)",
   "language": "python",
   "name": "python"
  },
  "language_info": {
   "codemirror_mode": {
    "name": "python",
    "version": 3
   },
   "file_extension": ".py",
   "mimetype": "text/x-python",
   "name": "python",
   "nbconvert_exporter": "python",
   "pygments_lexer": "ipython3",
   "version": "3.8"
  }
 },
 "nbformat": 4,
 "nbformat_minor": 5
}
